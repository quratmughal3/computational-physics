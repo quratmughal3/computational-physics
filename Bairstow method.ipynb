{
 "cells": [
  {
   "cell_type": "code",
   "execution_count": null,
   "metadata": {},
   "outputs": [],
   "source": [
    "r = float(input(\"enter value of r: \"))\n",
    "s = float(input(\"enter value of s: \"))\n",
    "a_5 = float(input(\"enter a_5: \"))\n",
    "a_4 = float(input(\"enter a_4: \"))\n",
    "a_3 = float(input(\"enter a_3: \"))\n",
    "a_2 = float(input(\"enter a_2: \"))\n",
    "a_1 = float(input(\"enter a_1: \"))\n",
    "a_0 = float(input(\"enter a_0: \"))\n",
    "b_5 = a_5\n",
    "b_4 = a_4 + (r*b_5) \n",
    "b_3 = a_3 + (r*b_4) + s*b_5\n",
    "b_2 = a_2 + (r*b_3) + s*b_4\n",
    "b_1 = a_1 + (r*b_2) + s*b_3\n",
    "b_0 = a_0 + (r*b_1) + s*b_2\n",
    "c_5 = b_5\n",
    "c_4 = b_4 + (r*c_5) \n",
    "c_3 = b_3 + (r*c_4) + s*c_5\n",
    "c_2 = b_2 + (r*c_3) + s*c_4\n",
    "c_1 = b_1 + (r*c_2) + s*c_3\n",
    "c_0 = b_0 + (r*c_1) + s*c_2\n",
    "A = {\"b_5\" : b_5,\"b_4\" : b_4,\"b_3\" : b_3,'b_2': b_2,'b_1': b_1,'b_0' :  b_0,'c_5' : c_5,'c_4':c_4,'c_3' :c_3,'c_2': c_2,'c_1': c_1}\n",
    "print(A)\n",
    "\n",
    "\n"
   ]
  },
  {
   "cell_type": "code",
   "execution_count": null,
   "metadata": {},
   "outputs": [],
   "source": [
    "# by cramers rule:\n",
    "# - b_1 = c_2r' + c_3s'\n",
    "# - b_0 = c_1r' + c_2s'\n",
    "D = (c_2*c_2) - (c_1*c_3)\n",
    "print(D)"
   ]
  },
  {
   "cell_type": "code",
   "execution_count": null,
   "metadata": {},
   "outputs": [],
   "source": [
    "Det_r = (-b_1*c_2) - (-b_0*c_3)\n",
    "print(Det_r)"
   ]
  },
  {
   "cell_type": "code",
   "execution_count": null,
   "metadata": {},
   "outputs": [],
   "source": [
    "Det_s = (c_2*(-b_0)) - (c_1*(-b_1))\n",
    "print(Det_s)"
   ]
  },
  {
   "cell_type": "code",
   "execution_count": null,
   "metadata": {},
   "outputs": [],
   "source": [
    "Del_r= Det_r/D\n",
    "Del_s = Det_s/D\n",
    "print(Del_r,Del_s)"
   ]
  },
  {
   "cell_type": "code",
   "execution_count": null,
   "metadata": {},
   "outputs": [],
   "source": [
    "new_r = r + Del_r\n",
    "new_s = s + Del_s\n",
    "print(new_r , new_s , sep = ',')\n",
    "\n"
   ]
  },
  {
   "cell_type": "code",
   "execution_count": null,
   "metadata": {},
   "outputs": [],
   "source": [
    "ERROR_1 = abs(Del_r/new_r)*100\n",
    "ERROR_2 = abs(Del_s/new_s)*100\n",
    "print(f'the Error_1 is {[ERROR_1]}% and the Error_2 is {[ERROR_2]}%')"
   ]
  },
  {
   "cell_type": "code",
   "execution_count": null,
   "metadata": {},
   "outputs": [],
   "source": []
  }
 ],
 "metadata": {
  "kernelspec": {
   "display_name": "Python 3",
   "language": "python",
   "name": "python3"
  },
  "language_info": {
   "codemirror_mode": {
    "name": "ipython",
    "version": 3
   },
   "file_extension": ".py",
   "mimetype": "text/x-python",
   "name": "python",
   "nbconvert_exporter": "python",
   "pygments_lexer": "ipython3",
   "version": "3.7.3"
  }
 },
 "nbformat": 4,
 "nbformat_minor": 2
}
