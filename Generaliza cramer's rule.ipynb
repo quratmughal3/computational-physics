{
 "cells": [
  {
   "cell_type": "code",
   "execution_count": null,
   "metadata": {},
   "outputs": [],
   "source": [
    "import numpy as np\n",
    "A=[]\n",
    "C=[]\n",
    "r=int(input('Rows:'))\n",
    "c=int(input('columns:'))\n",
    "import numpy as np\n",
    "for z in range(0,r*c):\n",
    "    a=int(input('Enter coeffecients:'))\n",
    "    A.append(a)\n",
    "A=np.matrix(A)\n",
    "A=np.reshape(r,c)\n",
    "for w in range(0,r):\n",
    "    b=int(input('Enter constants:'))\n",
    "    C.append(b)\n",
    "C=np.matrix(C)\n",
    "C=C.reshape(r,1)\n",
    "A=np.matrix(A)\n",
    "A=A.reshape(r,c)\n",
    "for i in range(0,c):\n",
    "    Di=np.matrix(a)\n",
    "    Di[:,i]=C\n",
    "    xi=(np.linalg.det(Di))/(np.linalg.det(A))\n",
    "    print('x',i,'=',xi)"
   ]
  },
  {
   "cell_type": "code",
   "execution_count": null,
   "metadata": {},
   "outputs": [],
   "source": []
  }
 ],
 "metadata": {
  "kernelspec": {
   "display_name": "Python 3",
   "language": "python",
   "name": "python3"
  },
  "language_info": {
   "codemirror_mode": {
    "name": "ipython",
    "version": 3
   },
   "file_extension": ".py",
   "mimetype": "text/x-python",
   "name": "python",
   "nbconvert_exporter": "python",
   "pygments_lexer": "ipython3",
   "version": "3.7.3"
  }
 },
 "nbformat": 4,
 "nbformat_minor": 2
}
