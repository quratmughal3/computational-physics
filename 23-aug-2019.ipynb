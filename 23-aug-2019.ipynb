{
 "cells": [
  {
   "cell_type": "code",
   "execution_count": 1,
   "metadata": {},
   "outputs": [
    {
     "name": "stdout",
     "output_type": "stream",
     "text": [
      "0\n",
      "1\n",
      "4\n",
      "9\n",
      "16\n",
      "25\n",
      "36\n",
      "49\n",
      "64\n",
      "81\n"
     ]
    }
   ],
   "source": [
    "for i in range(0,10):\n",
    "    y = i **2\n",
    "    print(y)"
   ]
  },
  {
   "cell_type": "code",
   "execution_count": 2,
   "metadata": {},
   "outputs": [
    {
     "name": "stdout",
     "output_type": "stream",
     "text": [
      "0\n",
      "1\n",
      "4\n",
      "9\n",
      "16\n"
     ]
    }
   ],
   "source": [
    "y = []\n",
    "for a in range(0,5):\n",
    "    a = a**2\n",
    "    y.append(a)\n",
    "    print(a)"
   ]
  },
  {
   "cell_type": "code",
   "execution_count": 2,
   "metadata": {},
   "outputs": [
    {
     "data": {
      "image/png": "[encoded data removed]",
      "text/plain": [
       "<Figure size 432x288 with 1 Axes>"
      ]
     },
     "metadata": {
      "needs_background": "light"
     },
     "output_type": "display_data"
    }
   ],
   "source": [
    "import matplotlib.pyplot as plt\n",
    "x = []\n",
    "y = []\n",
    "for i in range(0,10):\n",
    "    a = i**2\n",
    "    y.append(a)\n",
    "    x.append(i)\n",
    "plt.xlabel(\"numbers\")\n",
    "plt.ylabel(\"square of numbers\")\n",
    "plt.plot(x,y)\n",
    "plt.show()\n",
    "plt."
   ]
  },
  {
   "cell_type": "code",
   "execution_count": null,
   "metadata": {},
   "outputs": [],
   "source": [
    "from sympy import diff\n",
    "from sympy import Symbol\n",
    "x = Symbol('x')\n",
    "y = x**2\n",
    "z = y.diff(x)\n",
    "print(z)\n",
    "print(z.subs(x,2))\n"
   ]
  },
  {
   "cell_type": "code",
   "execution_count": null,
   "metadata": {},
   "outputs": [],
   "source": [
    "# # x^3-2x^2-1\n",
    "# def f(x):\n",
    "#     return (x**3) - (2*x**2) +1\n",
    "# def fd(r):\n",
    "#     c = f(x).diff(x)\n",
    "#     return c\n",
    "# print(c)"
   ]
  },
  {
   "cell_type": "code",
   "execution_count": null,
   "metadata": {},
   "outputs": [
    {
     "name": "stdout",
     "output_type": "stream",
     "text": [
      "enter initial number:3\n"
     ]
    }
   ],
   "source": [
    "from sympy import diff\n",
    "from sympy import Symbol\n",
    "r = Symbol('r')\n",
    "def f(x):\n",
    "    return x**3 + 2*x**2 + 1\n",
    "def fd(x):\n",
    "    z = diff(r**3 + 2*r**2 + 1)\n",
    "    return z.subs(r,x)\n",
    "x = float(input(\"enter initial number:\"))\n",
    "xnew=2\n",
    "while ((abs(f(xnew)) > 0.001)):\n",
    "    try:\n",
    "        xnew = x - ((f(x)/fd(x)))\n",
    "    except ZeroDivisionError:\n",
    "        print(\"zero division error is caught\")\n",
    "        x = xnew\n",
    "print(f(xnew))\n",
    "    "
   ]
  },
  {
   "cell_type": "code",
   "execution_count": null,
   "metadata": {},
   "outputs": [],
   "source": [
    "from sympy import diff\n",
    "from sympy import Symbol\n",
    "r = Symbol('r')\n",
    "def f():\n",
    "    return x**3 + 2*x**2 +1\n",
    "def fd(x):\n",
    "    z = diff(r**3 + 2*r**2 + 1)\n",
    "    return z.subs(r,x)\n",
    "x = float(input(\"enter your number\"))\n",
    "a = 1\n",
    "while((abs(f(xnew))>0.001)):\n",
    "    xnew = x - ((f(x)/fd(X)))\n",
    "    x = xnew\n",
    "print(f(xnew))    "
   ]
  },
  {
   "cell_type": "code",
   "execution_count": null,
   "metadata": {},
   "outputs": [],
   "source": []
  }
 ],
 "metadata": {
  "kernelspec": {
   "display_name": "Python 3",
   "language": "python",
   "name": "python3"
  },
  "language_info": {
   "codemirror_mode": {
    "name": "ipython",
    "version": 3
   },
   "file_extension": ".py",
   "mimetype": "text/x-python",
   "name": "python",
   "nbconvert_exporter": "python",
   "pygments_lexer": "ipython3",
   "version": "3.7.3"
  }
 },
 "nbformat": 4,
 "nbformat_minor": 2
}
