{
 "cells": [
  {
   "cell_type": "markdown",
   "metadata": {},
   "source": [
    "# Bisection method"
   ]
  },
  {
   "cell_type": "code",
   "execution_count": null,
   "metadata": {},
   "outputs": [],
   "source": [
    "def f(x):\n",
    "    return (x**3)-(6*x**2)-(261*x)+12\n",
    "temp = 0\n",
    "while temp == 0:\n",
    "    x1 = float(input(\"enter x1 =   \"))\n",
    "    if (f(x1)== 0):\n",
    "        print(f'the root is {x1}')\n",
    "        break\n",
    "    x2 = float(input(\"enter x2 =  \"))    \n",
    "    if (f(x2)== 0):\n",
    "        print(f'the root is {x2}')\n",
    "        break\n",
    "    if (f(x1)*f(x2) < 0 ):\n",
    "        temp = 1\n",
    "    else:\n",
    "        print(f'the root doenot lies between {x1} and {x2}')\n",
    "xm = x1\n",
    "epsilon = 0.0001\n",
    "print(\"x1 , x2 , x3 , f(x1) , f(x2) , f(x3)\")\n",
    "print('------------------------------------')\n",
    "while (abs(f(xm)> 0 )):\n",
    "    xm = (x1+x2/2)\n",
    "    if (f(xm)==0):\n",
    "        print(f'the root is {x1}')\n",
    "        break\n",
    "    print(round(x1,6),round(x2,6),round(xm,6),round(f(x1),6),round(f(x2),6),round(f(xm),6))\n",
    "    if (f(x1)*f(xm)<0):\n",
    "        x2 = xm\n",
    "    else:\n",
    "        x1 = xm\n",
    "print(\"--------------------\")\n",
    "print(f\"the root is {xm}\")"
   ]
  },
  {
   "cell_type": "markdown",
   "metadata": {},
   "source": [
    "# Sectant method"
   ]
  },
  {
   "cell_type": "code",
   "execution_count": null,
   "metadata": {},
   "outputs": [],
   "source": [
    "def f(x):\n",
    "    return (8*x**3)-(6*x**2)-(261*x)+378\n",
    "temp = 0\n",
    "while temp == 0:\n",
    "    x0=float(input('enter the value of x0 :'))\n",
    "    x1=float(input('enter the value of x1 :'))\n",
    "    E = float(input(\"enter the value of allowed error:\"))\n",
    "    if (abs(f(x0)<=E) ):\n",
    "        print(f'the root is {x0}')\n",
    "        break\n",
    "    if (abs(f(x1)<= E)):\n",
    "        print(f'the root is {x1}')\n",
    "        break\n",
    "    else:\n",
    "        temp = 1\n",
    "temp1 = 0\n",
    "while(temp1==0):\n",
    "    x2 = x0-(f(x1)*(x1-x0/f(x1)-f(x0)))\n",
    "    if (abs(f(x2) <= E)):\n",
    "        print(f'the root is {x2}')\n",
    "        temp1 = 1\n",
    "    else:\n",
    "        x0 = x1\n",
    "        x1 = x2"
   ]
  },
  {
   "cell_type": "markdown",
   "metadata": {},
   "source": [
    "# Newton raphson method"
   ]
  },
  {
   "cell_type": "code",
   "execution_count": null,
   "metadata": {},
   "outputs": [
    {
     "name": "stdout",
     "output_type": "stream",
     "text": [
      "enter value of x0: -1\n"
     ]
    }
   ],
   "source": [
    "from sympy import diff\n",
    "from sympy import Symbol\n",
    "def f(x):\n",
    "    return 2**x\n",
    "temp = 0\n",
    "x=Symbol('x')\n",
    "y=2**x\n",
    "while (temp == 0):\n",
    "    x0 = float(input(\"enter value of x0: \"))\n",
    "    if (f(x0) == 0):\n",
    "        print(f'{x0} is the root')\n",
    "        break \n",
    "    a = y.diff(x)\n",
    "    try:\n",
    "        x1 = x0-(f(x0)/a)\n",
    "    except ZeroDivisionError:\n",
    "        print(\"zero division error is caught\")\n",
    "temp = 1\n",
    "while(temp == 1):\n",
    "    x0 = x1\n",
    "    x2 = x1 - (f(x1)/f(x1).diff(x))\n",
    "    if f(x2) < E:\n",
    "        print(f\"{x0} is the root\")\n",
    "        break\n",
    "    else:\n",
    "        x1 = x2\n",
    "        \n",
    "    \n",
    "        "
   ]
  },
  {
   "cell_type": "code",
   "execution_count": null,
   "metadata": {},
   "outputs": [],
   "source": []
  }
 ],
 "metadata": {
  "kernelspec": {
   "display_name": "Python 3",
   "language": "python",
   "name": "python3"
  },
  "language_info": {
   "codemirror_mode": {
    "name": "ipython",
    "version": 3
   },
   "file_extension": ".py",
   "mimetype": "text/x-python",
   "name": "python",
   "nbconvert_exporter": "python",
   "pygments_lexer": "ipython3",
   "version": "3.7.3"
  }
 },
 "nbformat": 4,
 "nbformat_minor": 2
}
