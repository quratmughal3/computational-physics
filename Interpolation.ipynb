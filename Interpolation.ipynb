{
 "cells": [
  {
   "cell_type": "markdown",
   "metadata": {},
   "source": [
    "# INTERPOLATION using newtonsm forward formula"
   ]
  },
  {
   "cell_type": "code",
   "execution_count": 3,
   "metadata": {},
   "outputs": [],
   "source": [
    "#interpolation , long method"
   ]
  },
  {
   "cell_type": "code",
   "execution_count": 4,
   "metadata": {},
   "outputs": [
    {
     "name": "stdout",
     "output_type": "stream",
     "text": [
      "1\t1\t\n",
      "3\t27\t\n",
      "5\t125\t\n",
      "7\t343\t\n",
      "9\t729\t\n",
      "[26, 98, 218, 386]\n",
      "[72, 120, 168]\n",
      "[48, 48]\n",
      "[0]\n"
     ]
    }
   ],
   "source": [
    "x = [1,3,5,7,9]\n",
    "f_x = [1,27,125,343,729]\n",
    "n = len(x)\n",
    "del_x = []\n",
    "del_square_x= []\n",
    "del_cube_x= []\n",
    "del_quad_x= []\n",
    "for i in range(n-1):\n",
    "    del_x.append(f_x[i+1] - f_x[i])\n",
    "for j in range(n-2):\n",
    "    del_square_x.append(del_x[j+1]-del_x[j])\n",
    "for k in range(n-3):\n",
    "    del_cube_x.append(del_square_x[k+1]- del_square_x[k])\n",
    "for l in range(n-4):\n",
    "    del_quad_x.append(del_cube_x[l+1] - del_cube_x[l])\n",
    "for a in range(n):\n",
    "    print(x[a],end = \"\\t\");\n",
    "    print(f_x[a],end = \"\\t\");\n",
    "    print(\"\");\n",
    "print(del_x );\n",
    "print(del_square_x);\n",
    "print(del_cube_x );\n",
    "print(del_quad_x);\n"
   ]
  },
  {
   "cell_type": "code",
   "execution_count": null,
   "metadata": {},
   "outputs": [],
   "source": [
    "# interpolation , short cut method"
   ]
  },
  {
   "cell_type": "code",
   "execution_count": 1,
   "metadata": {},
   "outputs": [
    {
     "name": "stdout",
     "output_type": "stream",
     "text": [
      "enter total number of elements5\n",
      "enter elements of x: 1\n",
      "enter elements of y :1\n",
      "enter elements of x: 3\n",
      "enter elements of y :27\n",
      "enter elements of x: 5\n",
      "enter elements of y :125\n",
      "enter elements of x: 7\n",
      "enter elements of y :343\n",
      "enter elements of x: 9\n",
      "enter elements of y :729\n",
      "[[1, 27, 125, 343, 729], [26, 98, 218, 386], [72, 120, 168], [48, 48], [0]]\n"
     ]
    }
   ],
   "source": [
    "n = int(input(\"enter total number of elements\"))\n",
    "x = []\n",
    "y = []\n",
    "for i in range(0,n):\n",
    "    x.append(int(input(\"enter elements of x: \")))\n",
    "    y.append(int(input(\"enter elements of y :\")))\n",
    "b = []\n",
    "b.append(y)\n",
    "for i in range(0,n-1):\n",
    "    a = []\n",
    "    for j in range(0,n-1):\n",
    "         a.append(y[j+1]-y[j])\n",
    "    b.append(a)\n",
    "    n-=1\n",
    "    y=a\n",
    "print(b)    "
   ]
  },
  {
   "cell_type": "code",
   "execution_count": null,
   "metadata": {},
   "outputs": [],
   "source": []
  }
 ],
 "metadata": {
  "kernelspec": {
   "display_name": "Python 3",
   "language": "python",
   "name": "python3"
  },
  "language_info": {
   "codemirror_mode": {
    "name": "ipython",
    "version": 3
   },
   "file_extension": ".py",
   "mimetype": "text/x-python",
   "name": "python",
   "nbconvert_exporter": "python",
   "pygments_lexer": "ipython3",
   "version": "3.7.3"
  }
 },
 "nbformat": 4,
 "nbformat_minor": 2
}
