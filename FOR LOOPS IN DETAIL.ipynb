{
 "cells": [
  {
   "cell_type": "markdown",
   "metadata": {},
   "source": [
    "# FOR LOOP"
   ]
  },
  {
   "cell_type": "code",
   "execution_count": 4,
   "metadata": {},
   "outputs": [
    {
     "name": "stdout",
     "output_type": "stream",
     "text": [
      "0 1 2 3 4 5 6 7 8 9 "
     ]
    }
   ],
   "source": [
    "for i in range(0,10):\n",
    "    print(i , end = \" \")"
   ]
  },
  {
   "cell_type": "code",
   "execution_count": 5,
   "metadata": {},
   "outputs": [],
   "source": [
    "# for loop ka mtlb ye h k ye tb tk chalta hai jahan tk hm isy chalny ka bolen\n",
    "# mene upar for i in range(10) di hui hai mtlb k i ki value phly 0 hugi then 1 then so on and end 9 p hoga\n",
    "#range(start,stop,increment)\n"
   ]
  },
  {
   "cell_type": "code",
   "execution_count": 7,
   "metadata": {},
   "outputs": [
    {
     "name": "stdout",
     "output_type": "stream",
     "text": [
      "0 2 4 6 8 "
     ]
    }
   ],
   "source": [
    "for a in range(0,10,2):\n",
    "    print(a , end = \" \")"
   ]
  },
  {
   "cell_type": "code",
   "execution_count": 8,
   "metadata": {},
   "outputs": [],
   "source": [
    "# q k mene increment dyawa tha tha 2 ka to phly a ki value hui 0 then 2 then 4 then 8"
   ]
  },
  {
   "cell_type": "code",
   "execution_count": 9,
   "metadata": {},
   "outputs": [
    {
     "name": "stdout",
     "output_type": "stream",
     "text": [
      "20 19 18 17 16 15 14 13 12 11 10 9 8 7 6 5 4 3 2 1 "
     ]
    }
   ],
   "source": [
    "for i in range(20,0,-1):\n",
    "    print(i, end = \" \")"
   ]
  },
  {
   "cell_type": "code",
   "execution_count": 24,
   "metadata": {},
   "outputs": [
    {
     "name": "stdout",
     "output_type": "stream",
     "text": [
      "22\n",
      "33\n",
      "44\n",
      "55\n",
      "66\n",
      "77\n",
      "88\n",
      "99\n"
     ]
    }
   ],
   "source": [
    "x = [22,33,44,55,66,77,88,99] # loop through index\n",
    "for num in x:                 # mtlb i ub x bnjaega or x hamari ps list h to i phlu 22 bnega then 33 and so on\n",
    "    print(num)"
   ]
  },
  {
   "cell_type": "code",
   "execution_count": 23,
   "metadata": {},
   "outputs": [
    {
     "name": "stdout",
     "output_type": "stream",
     "text": [
      "aa\n",
      "dd\n",
      "rr\n",
      "tt\n"
     ]
    }
   ],
   "source": [
    "students = ['aa','dd','rr','tt']\n",
    "for i in students:\n",
    "    print(i)"
   ]
  },
  {
   "cell_type": "code",
   "execution_count": 14,
   "metadata": {},
   "outputs": [
    {
     "name": "stdout",
     "output_type": "stream",
     "text": [
      "P\n",
      "a\n",
      "k\n",
      "i\n",
      "s\n",
      "t\n",
      "a\n",
      "n\n"
     ]
    }
   ],
   "source": [
    "for character in \"Pakistan\":\n",
    "    print(character)"
   ]
  },
  {
   "cell_type": "code",
   "execution_count": 15,
   "metadata": {},
   "outputs": [
    {
     "name": "stdout",
     "output_type": "stream",
     "text": [
      "enter your number: 2\n",
      "2*1 = 2\n",
      "2*2 = 4\n",
      "2*3 = 6\n",
      "2*4 = 8\n",
      "2*5 = 10\n",
      "2*6 = 12\n",
      "2*7 = 14\n",
      "2*8 = 16\n",
      "2*9 = 18\n",
      "2*10 = 20\n"
     ]
    }
   ],
   "source": [
    "a = int(input(\"enter your number: \"))\n",
    "for number in range(1,11):\n",
    "    print(f'{a}*{number} = {a*number}')"
   ]
  },
  {
   "cell_type": "code",
   "execution_count": 16,
   "metadata": {},
   "outputs": [
    {
     "name": "stdout",
     "output_type": "stream",
     "text": [
      "1\n",
      "3\n",
      "5\n",
      "7\n",
      "9\n"
     ]
    }
   ],
   "source": [
    "list = [1,2,3,4,5,6,7,8,9,10]\n",
    "# for loop chalao list k ander or even numbers ko\n",
    "# print krwao\n",
    "for i in list:\n",
    "    if i % 2 != 0:\n",
    "        print(i)"
   ]
  },
  {
   "cell_type": "code",
   "execution_count": 17,
   "metadata": {},
   "outputs": [
    {
     "name": "stdout",
     "output_type": "stream",
     "text": [
      "1\n",
      "2\n",
      "3\n",
      "5\n",
      "6\n",
      "7\n",
      "8\n",
      "9\n"
     ]
    }
   ],
   "source": [
    "for a in range(1,10):    \n",
    "    if a==4:       \n",
    "        continue\n",
    "    print(a) "
   ]
  },
  {
   "cell_type": "code",
   "execution_count": 18,
   "metadata": {},
   "outputs": [
    {
     "name": "stdout",
     "output_type": "stream",
     "text": [
      "1\n",
      "2\n",
      "3\n"
     ]
    }
   ],
   "source": [
    "for a in range(1,10):    \n",
    "    if a==4:       \n",
    "        break\n",
    "    print(a)  "
   ]
  },
  {
   "cell_type": "code",
   "execution_count": 22,
   "metadata": {},
   "outputs": [
    {
     "name": "stdout",
     "output_type": "stream",
     "text": [
      "Welcome to the Party asad\n",
      "Welcome to the Party amir\n",
      "Welcome to the Party fahad\n",
      "Party is over saad\n",
      "Welcome to the Party faisal\n"
     ]
    }
   ],
   "source": [
    "friends = ['asad', 'amir', 'fahad', 'saad', 'faisal']\n",
    "\n",
    "for i in friends:\n",
    "    if i !=\"saad\":\n",
    "        print(f\"Welcome to the Party {i}\")\n",
    "    else:\n",
    "        print(f\"Party is over {i}\")\n",
    "        continue"
   ]
  },
  {
   "cell_type": "markdown",
   "metadata": {},
   "source": [
    "# newtons forward formula"
   ]
  },
  {
   "cell_type": "code",
   "execution_count": 26,
   "metadata": {},
   "outputs": [
    {
     "name": "stdout",
     "output_type": "stream",
     "text": [
      "[1, 3, 5, 7, 9]\n",
      "[1, 27, 125, 343, 729]\n",
      "[26, 98, 218, 386]\n",
      "[72, 120, 168]\n",
      "[48, 48]\n",
      "[0]\n"
     ]
    }
   ],
   "source": [
    "x = [1,3,5,7,9]\n",
    "f_x = [1,27,125,343,729]\n",
    "n = len(x)\n",
    "del_x = []\n",
    "del_square_x= []\n",
    "del_cube_x= []\n",
    "del_quad_x= []\n",
    "for i in range(n-1):\n",
    "    del_x.append(f_x[i+1] - f_x[i])\n",
    "for j in range(n-2):\n",
    "    del_square_x.append(del_x[j+1]-del_x[j])\n",
    "for k in range(n-3):\n",
    "    del_cube_x.append(del_square_x[k+1]- del_square_x[k])\n",
    "for l in range(n-4):\n",
    "    del_quad_x.append(del_cube_x[l+1] - del_cube_x[l])\n",
    "print(x );\n",
    "print(f_x );\n",
    "print(del_x );\n",
    "print(del_square_x);\n",
    "print(del_cube_x );\n",
    "print(del_quad_x);"
   ]
  },
  {
   "cell_type": "code",
   "execution_count": 27,
   "metadata": {},
   "outputs": [],
   "source": [
    "#newtons forward method loop and lst ko use krky bnaya hai isko samjhen but healthy advice ye h k phly ik dafa achy\n",
    "# s youtbe s question samjh len then ye asani s samjh ajaega"
   ]
  },
  {
   "cell_type": "code",
   "execution_count": null,
   "metadata": {},
   "outputs": [],
   "source": [
    "#mene kahe b nested for loops iuse nay krywe usky lye next file ka wait kren.\n"
   ]
  }
 ],
 "metadata": {
  "kernelspec": {
   "display_name": "Python 3",
   "language": "python",
   "name": "python3"
  },
  "language_info": {
   "codemirror_mode": {
    "name": "ipython",
    "version": 3
   },
   "file_extension": ".py",
   "mimetype": "text/x-python",
   "name": "python",
   "nbconvert_exporter": "python",
   "pygments_lexer": "ipython3",
   "version": "3.7.3"
  }
 },
 "nbformat": 4,
 "nbformat_minor": 2
}
