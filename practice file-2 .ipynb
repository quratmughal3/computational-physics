{
 "cells": [
  {
   "cell_type": "markdown",
   "metadata": {},
   "source": [
    "# math expressions: unfamiliar operators"
   ]
  },
  {
   "cell_type": "code",
   "execution_count": 1,
   "metadata": {},
   "outputs": [],
   "source": [
    "# python have certain operators that you should know before coding."
   ]
  },
  {
   "cell_type": "code",
   "execution_count": 2,
   "metadata": {},
   "outputs": [
    {
     "name": "stdout",
     "output_type": "stream",
     "text": [
      "6\n"
     ]
    }
   ],
   "source": [
    "# addition:\n",
    "a = 2+4\n",
    "print(a)"
   ]
  },
  {
   "cell_type": "code",
   "execution_count": 5,
   "metadata": {},
   "outputs": [
    {
     "name": "stdout",
     "output_type": "stream",
     "text": [
      "6\n"
     ]
    }
   ],
   "source": [
    "a = 4\n",
    "a = a+2\n",
    "print(a)"
   ]
  },
  {
   "cell_type": "code",
   "execution_count": 10,
   "metadata": {},
   "outputs": [
    {
     "name": "stdout",
     "output_type": "stream",
     "text": [
      "2\n"
     ]
    }
   ],
   "source": [
    "b = 4\n",
    "b = b-2\n",
    "print(b)"
   ]
  },
  {
   "cell_type": "code",
   "execution_count": 12,
   "metadata": {},
   "outputs": [
    {
     "name": "stdout",
     "output_type": "stream",
     "text": [
      "8\n"
     ]
    }
   ],
   "source": [
    "c = 2*4\n",
    "print(c)"
   ]
  },
  {
   "cell_type": "code",
   "execution_count": 19,
   "metadata": {},
   "outputs": [
    {
     "data": {
      "text/plain": [
       "8"
      ]
     },
     "execution_count": 19,
     "metadata": {},
     "output_type": "execute_result"
    }
   ],
   "source": [
    "# up jo me operator likhuga uska kam ye hai k wo usmy value add krani hai to me direct krstka hu jese k:\n",
    "d = 4\n",
    "d +=4\n",
    "d"
   ]
  },
  {
   "cell_type": "code",
   "execution_count": 21,
   "metadata": {},
   "outputs": [
    {
     "data": {
      "text/plain": [
       "3"
      ]
     },
     "execution_count": 21,
     "metadata": {},
     "output_type": "execute_result"
    }
   ],
   "source": [
    "#similarlY:\n",
    "e = 5\n",
    "e -= 2\n",
    "e"
   ]
  },
  {
   "cell_type": "code",
   "execution_count": 22,
   "metadata": {},
   "outputs": [
    {
     "data": {
      "text/plain": [
       "18"
      ]
     },
     "execution_count": 22,
     "metadata": {},
     "output_type": "execute_result"
    }
   ],
   "source": [
    "f = 6\n",
    "f *= 3\n",
    "f"
   ]
  },
  {
   "cell_type": "code",
   "execution_count": 23,
   "metadata": {},
   "outputs": [
    {
     "data": {
      "text/plain": [
       "3.0"
      ]
     },
     "execution_count": 23,
     "metadata": {},
     "output_type": "execute_result"
    }
   ],
   "source": [
    "g = 9\n",
    "g /=3\n",
    "g"
   ]
  },
  {
   "cell_type": "code",
   "execution_count": 25,
   "metadata": {},
   "outputs": [
    {
     "data": {
      "text/plain": [
       "1"
      ]
     },
     "execution_count": 25,
     "metadata": {},
     "output_type": "execute_result"
    }
   ],
   "source": [
    "# reminder operator: jo b reminder huga wo ye show krefa\n",
    "10 % 3"
   ]
  },
  {
   "cell_type": "markdown",
   "metadata": {},
   "source": [
    "# comparison operator"
   ]
  },
  {
   "cell_type": "code",
   "execution_count": 26,
   "metadata": {},
   "outputs": [
    {
     "data": {
      "text/plain": [
       "True"
      ]
     },
     "execution_count": 26,
     "metadata": {},
     "output_type": "execute_result"
    }
   ],
   "source": [
    "a = 2\n",
    "b = 2\n",
    "a == b"
   ]
  },
  {
   "cell_type": "code",
   "execution_count": 27,
   "metadata": {},
   "outputs": [
    {
     "data": {
      "text/plain": [
       "False"
      ]
     },
     "execution_count": 27,
     "metadata": {},
     "output_type": "execute_result"
    }
   ],
   "source": [
    "# not equals to operator:\n",
    "a != b"
   ]
  },
  {
   "cell_type": "code",
   "execution_count": 28,
   "metadata": {},
   "outputs": [],
   "source": [
    "# upar false is waajasy aya hai q k a or b to equal hain or hm python ko kehrahy hain k kya a and b uneqaul hain to python\n",
    "# n kaha nahi wo dono equal hain yana k tmny false kaha hai"
   ]
  },
  {
   "cell_type": "code",
   "execution_count": 29,
   "metadata": {},
   "outputs": [
    {
     "data": {
      "text/plain": [
       "False"
      ]
     },
     "execution_count": 29,
     "metadata": {},
     "output_type": "execute_result"
    }
   ],
   "source": [
    "a > b"
   ]
  },
  {
   "cell_type": "code",
   "execution_count": 30,
   "metadata": {},
   "outputs": [
    {
     "data": {
      "text/plain": [
       "False"
      ]
     },
     "execution_count": 30,
     "metadata": {},
     "output_type": "execute_result"
    }
   ],
   "source": [
    "a < b"
   ]
  },
  {
   "cell_type": "code",
   "execution_count": 31,
   "metadata": {},
   "outputs": [
    {
     "data": {
      "text/plain": [
       "True"
      ]
     },
     "execution_count": 31,
     "metadata": {},
     "output_type": "execute_result"
    }
   ],
   "source": [
    "# greater than or equal to operator:\n",
    "a >= b"
   ]
  },
  {
   "cell_type": "code",
   "execution_count": 32,
   "metadata": {},
   "outputs": [
    {
     "data": {
      "text/plain": [
       "True"
      ]
     },
     "execution_count": 32,
     "metadata": {},
     "output_type": "execute_result"
    }
   ],
   "source": [
    "# less then or equal to operator:\n",
    "a <= b"
   ]
  },
  {
   "cell_type": "code",
   "execution_count": 34,
   "metadata": {},
   "outputs": [
    {
     "data": {
      "text/plain": [
       "4"
      ]
     },
     "execution_count": 34,
     "metadata": {},
     "output_type": "execute_result"
    }
   ],
   "source": [
    "# power operator: \"double staric\"\n",
    "2**2"
   ]
  },
  {
   "cell_type": "code",
   "execution_count": 35,
   "metadata": {},
   "outputs": [],
   "source": [
    "# imporatant thing:\n",
    "# python DMAS rule follow krta hai to apko bht dehan s calculation krni hungi"
   ]
  },
  {
   "cell_type": "markdown",
   "metadata": {},
   "source": [
    "# IF & ELSE STATEMENT"
   ]
  },
  {
   "cell_type": "code",
   "execution_count": 36,
   "metadata": {},
   "outputs": [],
   "source": [
    "# ye if and else hm waha use krty hain jaha hmen decision lena huta hai. for example me ik machine banaun jisko me \n",
    "# me input m ik cat ki picture dikhai, agar wo cat hugi to machine bolegi yes or agar nahu hugi to no. lets see:\n",
    "# if and alse ki body bnany ka tareqa:\n",
    "#1) if then apki condition then 2 equals to k sign \"==\"  then apki value then colon \":\"\n",
    "#2) us condition ko print krwayen\n",
    "#3) then else:\n",
    "#4) lets see a practical example:"
   ]
  },
  {
   "cell_type": "code",
   "execution_count": 37,
   "metadata": {},
   "outputs": [],
   "source": [
    "# make a program of numbers that are divisible by two:\n",
    "#1) pehly user s input lengy\n",
    "#2) usko check krengy k kya ye 2 s divisible h ya nahai:"
   ]
  },
  {
   "cell_type": "code",
   "execution_count": 39,
   "metadata": {},
   "outputs": [
    {
     "name": "stdout",
     "output_type": "stream",
     "text": [
      "enter any number: 46\n",
      "46 is divisible by 2\n"
     ]
    }
   ],
   "source": [
    "a = int(input(\"enter any number: \"))\n",
    "if a % 2 == 0:\n",
    "    print(f'{a} is divisible by 2')\n",
    "else:\n",
    "    print(f'{a} is not divisible by 2')"
   ]
  },
  {
   "cell_type": "code",
   "execution_count": 40,
   "metadata": {},
   "outputs": [],
   "source": [
    "# upar dekehn to mene if ki boddy me a % 2 == 0 lagaya ha iska, iska mtlb ye h agar koi b number 2 s divide huga reminder\n",
    "# 0 aye to 2 s divide huskta hai else wo 2 k table m nahi ata.\n",
    "# ap loge is tarah bht saari conditions bnaskty hain:\n",
    "#1) user s input len or check kren k input even h ya odd\n"
   ]
  },
  {
   "cell_type": "code",
   "execution_count": 41,
   "metadata": {},
   "outputs": [],
   "source": [
    "# ub mazeed ik step agay jaty hain or if ki body mazeeed conditons rakhty hain:"
   ]
  },
  {
   "cell_type": "code",
   "execution_count": 42,
   "metadata": {},
   "outputs": [
    {
     "name": "stdout",
     "output_type": "stream",
     "text": [
      "enter any number: 45\n",
      " 46 is divisible by 2\n",
      "46 is divibile by 2 not by 5\n"
     ]
    }
   ],
   "source": [
    "b = int(input(\"enter any number: \"))\n",
    "if a % 2 == 0:\n",
    "    print(f' {a} is divisible by 2')\n",
    "    if a % 5 == 0:\n",
    "        print(f'{a} is also divisible by 5')\n",
    "    else:\n",
    "        print(f'{a} is divibile by 2 not by 5')\n",
    "else:\n",
    "    print(f'{a} is not divisible by 2')"
   ]
  },
  {
   "cell_type": "code",
   "execution_count": 43,
   "metadata": {},
   "outputs": [],
   "source": [
    "# ub iska zara dehan s samjhen:\n",
    "# pehly mene if ki body me condition rakhi me ik input duga agar wo 2 s divide huga k 0 input de to print krwado k a ik esa\n",
    "# number h jo 2 s divide husakta hai\n",
    "# pher mene us ki body m ik or condition rakhi agar wo 5 s divide hu k 0 input de to print krwado k wo 2 s b divide huskta\n",
    "# hai or 5 s b, ub mene is branced waly if k else m likha k print krwado k a 2 s divide hugaya hai but not 5 s.\n",
    "# ub mene main if ki body ko else dya k a 2 s divide nahi huraha\n",
    "# esy ap or b programs bnayen or is cheex m command hasil kren"
   ]
  },
  {
   "cell_type": "code",
   "execution_count": 44,
   "metadata": {},
   "outputs": [],
   "source": [
    "# acha ub me ik new cheex use kruga jiska name h elif:\n",
    "# pehly me ik program bnauga then apko explain kruga k iska kam kya hai:"
   ]
  },
  {
   "cell_type": "code",
   "execution_count": 45,
   "metadata": {},
   "outputs": [
    {
     "name": "stdout",
     "output_type": "stream",
     "text": [
      "enter any number: 7\n",
      "7 is a prime number\n"
     ]
    }
   ],
   "source": [
    "b = int(input(\"enter any number: \"))\n",
    "if b % 2 == 0:\n",
    "    print(f'{b} is divisible by 2')\n",
    "elif b % 3 == 0:\n",
    "    print(f'{b} is divisible by 3')\n",
    "elif b % 4 == 0:\n",
    "    print(f'{b} is divisible by 4')\n",
    "elif b % 5 == 0:\n",
    "    print(f'{b} is divisible by 5')\n",
    "else:\n",
    "    print(f'{b} is a prime number')"
   ]
  },
  {
   "cell_type": "code",
   "execution_count": 46,
   "metadata": {},
   "outputs": [],
   "source": [
    "# ub samjhega k yaha hua kya hai:\n",
    "# elif ka mtlb h k agar usmy jo b condition h w satisfy hugai to wo program wahe stop hujaega. for example agar me input 3\n",
    "# dunga to first condition satisfy nahi hrahi wo seconde elif p ayega ub yaha uski condition satisfay hggai to ye yahe stop \n",
    "# hujaega:\n"
   ]
  },
  {
   "cell_type": "code",
   "execution_count": 48,
   "metadata": {},
   "outputs": [
    {
     "name": "stdout",
     "output_type": "stream",
     "text": [
      "do you have your enrolement card: yes\n",
      "go in to the examintation centre\n",
      "admit card hai? yes\n",
      "go inside the class romm\n"
     ]
    }
   ],
   "source": [
    "#EXERCISE QUESTIONS:\n",
    "#1) user s input len k usky pas nic hai? , agar hai to print krwayen andar jao ap phr branched if k body me dobara user\n",
    "#2) input len voter list me name hai or agar hai to print krwaye cast your vote or iski else m chalayen dosra centre\n",
    "#3) dekhen, ub main if ko else den k nic lekr ao.\n",
    "#4) ye thora mushkil h me isi s realted ik program share krra hu ussy help lijyega\n",
    "person = input(\"do you have your enrolement card: \")\n",
    "if person == 'yes':\n",
    "    print(\"go in to the examintation centre\")\n",
    "    person = input(\"admit card hai? \")\n",
    "    if person == \"yes\":\n",
    "        print(\"go inside the class romm\")\n",
    "    else:\n",
    "        print(\"go to other class room\")\n",
    "else:\n",
    "    print(\"go and get enrolement card\")"
   ]
  },
  {
   "cell_type": "code",
   "execution_count": null,
   "metadata": {},
   "outputs": [],
   "source": [
    "# mene is program me if and elif ki condtion remove krdi hain , to ap is program ki khd condition likehn\n",
    "x = int(input(\"enter your  first number: \"))\n",
    "y = int(input(\"enter your second number: \"))\n",
    "if  \n",
    "    print(\" x and y are equal but have opposite signs\")\n",
    "elif  \n",
    "    print(\"the sum of input is even number\")\n",
    "elif :\n",
    "    print(\"the sum of  x and y negative\")\n",
    "elif \n",
    "    print(\"the sum of x and y is an odd number\")\n",
    "else:\n",
    "    print(\"please enter another number\")"
   ]
  },
  {
   "cell_type": "code",
   "execution_count": null,
   "metadata": {},
   "outputs": [],
   "source": [
    "# more questions:\n",
    "#1) user s 3 input len jismy s 2 int or ik float, check kren k 3no ka sum greater than 10 hai ya less then 10, then usko\n",
    "#appropriate message print krwayen\n",
    "#2) user s 2 input len or check kren k dono ka sum 10  k euqal hai , phr condition lgayen check kren k sum 10 s greater\n",
    "# hai to usko appropirate message print krwayen , or ik condiotn lgayen k sum less than 10 hai to usko message print \n",
    "#krwayen,\n",
    "# conditon esy likehn k agar wo satisfy hujaye to apka program wahe stop hujaye."
   ]
  }
 ],
 "metadata": {
  "kernelspec": {
   "display_name": "Python 3",
   "language": "python",
   "name": "python3"
  },
  "language_info": {
   "codemirror_mode": {
    "name": "ipython",
    "version": 3
   },
   "file_extension": ".py",
   "mimetype": "text/x-python",
   "name": "python",
   "nbconvert_exporter": "python",
   "pygments_lexer": "ipython3",
   "version": "3.7.3"
  }
 },
 "nbformat": 4,
 "nbformat_minor": 2
}
