{
 "cells": [
  {
   "cell_type": "markdown",
   "metadata": {},
   "source": [
    "# LEAST SQUARE FITTING USING 2ND EQUATION OF MOTION"
   ]
  },
  {
   "cell_type": "code",
   "execution_count": null,
   "metadata": {},
   "outputs": [],
   "source": [
    "# F = ma + f : where m is B and f is A.\n",
    "# Data i used here is  F = [2,4,6,8,10] and a = [6,9,12,15,18]"
   ]
  },
  {
   "cell_type": "code",
   "execution_count": 1,
   "metadata": {},
   "outputs": [
    {
     "name": "stdout",
     "output_type": "stream",
     "text": [
      "enter total number of elements: 5\n",
      "enter elements of F:2\n",
      "enter elements of a:6\n",
      "enter elements of F:4\n",
      "enter elements of a:9\n",
      "enter elements of F:6\n",
      "enter elements of a:12\n",
      "enter elements of F:8\n",
      "enter elements of a:15\n",
      "enter elements of F:10\n",
      "enter elements of a:18\n",
      "-2.0 0.6666666666666666\n"
     ]
    },
    {
     "data": {
      "text/plain": [
       "<Figure size 640x480 with 1 Axes>"
      ]
     },
     "metadata": {},
     "output_type": "display_data"
    }
   ],
   "source": [
    "\n",
    "import matplotlib.pyplot as plt\n",
    "F= []\n",
    "a = []\n",
    "[sum_x,sum_y,sum_xy,sum_xx] = [0,0,0,0]\n",
    "n = int(input(\"enter total number of elements: \"))\n",
    "for i in range(0,n):\n",
    "    F.append(int(input(\"enter elements of F:\")))\n",
    "    a.append(int(input(\"enter elements of a:\")))\n",
    "    sum_x+=a[i]\n",
    "    sum_y+= F[i]\n",
    "    sum_xy+=a[i]*F[i]\n",
    "    sum_xx+=a[i]*a[i]\n",
    "B = (n*sum_xy - sum_x*sum_y)/ (n*sum_xx - sum_x**2)\n",
    "A =(sum_y - B*sum_x)/n\n",
    "print(A,B)\n",
    "F_new = []\n",
    "for i in range(0,n):\n",
    "    F_new.append(B*a[i]  + A)             "
   ]
  },
  {
   "cell_type": "code",
   "execution_count": 4,
   "metadata": {},
   "outputs": [
    {
     "data": {
      "image/png": "[encoded data removed]",
      "text/plain": [
       "<Figure size 432x288 with 1 Axes>"
      ]
     },
     "metadata": {
      "needs_background": "light"
     },
     "output_type": "display_data"
    },
    {
     "data": {
      "image/png": "[encoded data removed]",
      "text/plain": [
       "<Figure size 432x288 with 1 Axes>"
      ]
     },
     "metadata": {
      "needs_background": "light"
     },
     "output_type": "display_data"
    }
   ],
   "source": [
    "plt.plot(a,F, \"o\")\n",
    "plt.show()\n",
    "plt.plot(a,F_new )\n",
    "plt.show()\n",
    "           "
   ]
  },
  {
   "cell_type": "code",
   "execution_count": null,
   "metadata": {},
   "outputs": [],
   "source": []
  }
 ],
 "metadata": {
  "kernelspec": {
   "display_name": "Python 3",
   "language": "python",
   "name": "python3"
  },
  "language_info": {
   "codemirror_mode": {
    "name": "ipython",
    "version": 3
   },
   "file_extension": ".py",
   "mimetype": "text/x-python",
   "name": "python",
   "nbconvert_exporter": "python",
   "pygments_lexer": "ipython3",
   "version": "3.7.3"
  }
 },
 "nbformat": 4,
 "nbformat_minor": 2
}
