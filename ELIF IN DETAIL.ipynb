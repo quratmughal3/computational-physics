{
 "cells": [
  {
   "cell_type": "markdown",
   "metadata": {},
   "source": [
    "# elif"
   ]
  },
  {
   "cell_type": "code",
   "execution_count": null,
   "metadata": {},
   "outputs": [],
   "source": [
    "# elif :\n",
    "# elif ka mtlb h k agar hamara condition fulfil hugai to ye wahe stop huyega agar nahi jaeyga, unlike if k jo hr conditon\n",
    "# ko run krta hai"
   ]
  },
  {
   "cell_type": "code",
   "execution_count": 1,
   "metadata": {},
   "outputs": [
    {
     "name": "stdout",
     "output_type": "stream",
     "text": [
      " enter your number: 1\n",
      " enter your number: 2\n",
      "the sum of x and y is less than ten \n"
     ]
    }
   ],
   "source": [
    "x = int(input(\" enter your number: \"))\n",
    "y = int(input(\" enter your number: \"))\n",
    "if  (x+y) <10:\n",
    "    print(\"the sum of x and y is less than ten \")\n",
    "elif (x+y) == 10:\n",
    "    print(\"the sum of x and y is 10\")\n",
    "elif (x+y)  > 10 and (x+y) <= 100:\n",
    "    print(\"the sum of x and y is greater than 10 but less than or equal 100\")"
   ]
  },
  {
   "cell_type": "code",
   "execution_count": null,
   "metadata": {},
   "outputs": [],
   "source": [
    "#here in the above example is used elif and as  can see when i enter 3 and 4 thats sums 7 so the first conditon is fulfil\n",
    "# and it will stop on the first condition, yaha mene logical operators b use kry hain jo k \"and\" hai mtlb ye dono condition\n",
    "#ko check krega."
   ]
  },
  {
   "cell_type": "code",
   "execution_count": null,
   "metadata": {},
   "outputs": [],
   "source": [
    "#u can try more examples using elif\n",
    "# i m giving u some of the codes so u can get command elif"
   ]
  },
  {
   "cell_type": "code",
   "execution_count": null,
   "metadata": {},
   "outputs": [],
   "source": [
    "a = int(input(\"enter a number :\"))\n",
    "\n",
    "if a == 2:\n",
    "    print(a)\n",
    "elif a == 4:\n",
    "    print(a)\n",
    "elif a == 6:\n",
    "    print(a)\n",
    "else:\n",
    "    (\"enter new number\")"
   ]
  },
  {
   "cell_type": "code",
   "execution_count": null,
   "metadata": {},
   "outputs": [],
   "source": [
    "print(\"university_guard: dear student check your identity card\")\n",
    "print(\"student: let me check \")\n",
    "name = input(\"what is your name: \")\n",
    "Student = input(f\" {name}: \")\n",
    "if Student == \"yes i have\":\n",
    "    print(f\" {name}, go inside the university\")\n",
    "elif Student == \"i have admit card\":\n",
    "    print(f\"{name} ,go inside :D \")\n",
    "elif Student == \"i donot have identity card but i have admit_card\":\n",
    "    print(f\"{name} , can also go inside\")\n",
    "\n",
    "else:\n",
    "    print(f\"{name}please bring all the documents to show that you are a student of this university\")"
   ]
  },
  {
   "cell_type": "code",
   "execution_count": null,
   "metadata": {},
   "outputs": [],
   "source": [
    "#ub yaha apko input dena hai , ya to yes i have den ya i have admit_card den ya phr i donot have identity_card but i have \n",
    "#admit_card, agar isky ilawa khc b input dengi to ye else m chala jaega"
   ]
  },
  {
   "cell_type": "code",
   "execution_count": null,
   "metadata": {},
   "outputs": [],
   "source": [
    "# do inputs len or check kren k unka sum even h ya odd\n",
    "a = int(input(\"enter your first number : \"))\n",
    "b = int(input(\"enter your second number: \"))\n",
    "if (a+b) % 2 == 0:\n",
    "    print(f\"the sum of {a} and {b} is even\")\n",
    "elif (a+b) % 2 != 0:\n",
    "    print(f'the sum of {a} and {b} is odd')"
   ]
  },
  {
   "cell_type": "code",
   "execution_count": null,
   "metadata": {},
   "outputs": [],
   "source": [
    "marks = int(input(\"enter your percentage:\"))\n",
    "if marks >= 80:\n",
    "    print(\"your grade is A+\")\n",
    "elif marks >=70 and marks < 80:\n",
    "    print(\"your grade is A\")\n",
    "elif marks >=60 and marks <70:\n",
    "    print(\"your grade is B\")\n",
    "elif marks >= 50 and marks < 60:\n",
    "    print(\"your grade is c\")\n",
    "elif marks >= 40 and marks < 50:\n",
    "    print(\"your grade is c\") \n",
    "else:\n",
    "    print(\"you are fail\")"
   ]
  },
  {
   "cell_type": "code",
   "execution_count": null,
   "metadata": {},
   "outputs": [],
   "source": [
    "#in sub programs ko ap run kren sawab-e-darain hasil kren XD"
   ]
  }
 ],
 "metadata": {
  "kernelspec": {
   "display_name": "Python 3",
   "language": "python",
   "name": "python3"
  },
  "language_info": {
   "codemirror_mode": {
    "name": "ipython",
    "version": 3
   },
   "file_extension": ".py",
   "mimetype": "text/x-python",
   "name": "python",
   "nbconvert_exporter": "python",
   "pygments_lexer": "ipython3",
   "version": "3.7.3"
  }
 },
 "nbformat": 4,
 "nbformat_minor": 2
}
