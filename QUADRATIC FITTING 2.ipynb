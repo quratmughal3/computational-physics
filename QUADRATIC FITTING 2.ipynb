{
 "cells": [
  {
   "cell_type": "markdown",
   "metadata": {},
   "source": [
    "# QUADRATIC FITTING"
   ]
  },
  {
   "cell_type": "code",
   "execution_count": 12,
   "metadata": {},
   "outputs": [
    {
     "data": {
      "text/plain": [
       "'x = [0,1,2,3,4,5] y = [2.1,7,7,13.6,27.2,40.9,61.1]'"
      ]
     },
     "execution_count": 12,
     "metadata": {},
     "output_type": "execute_result"
    }
   ],
   "source": [
    "'''X = [0,1,2,3,4,5] Y = [2.1,7,7,13.6,27.2,40.9,61.1]'''\n"
   ]
  },
  {
   "cell_type": "code",
   "execution_count": 1,
   "metadata": {},
   "outputs": [
    {
     "name": "stdout",
     "output_type": "stream",
     "text": [
      "enter total number of elements elements : 6\n",
      "enter elements of x: 0\n",
      "enter elements of y: 2.1\n",
      "enter elements of x: 1\n",
      "enter elements of y: 7.7\n",
      "enter elements of x: 2\n",
      "enter elements of y: 13.6\n",
      "enter elements of x: 3\n",
      "enter elements of y: 27.2\n",
      "enter elements of x: 4\n",
      "enter elements of y: 40.9\n",
      "enter elements of x: 5\n",
      "enter elements of y: 61.1\n",
      "[[ 0.82142857 -0.58928571  0.08928571]\n",
      " [-0.58928571  0.72678571 -0.13392857]\n",
      " [ 0.08928571 -0.13392857  0.02678571]]\n",
      "[[ 152.6]\n",
      " [ 585.6]\n",
      " [2488.8]]\n",
      "[[2.47857143]\n",
      " [2.35928571]\n",
      " [1.86071429]]\n"
     ]
    }
   ],
   "source": [
    "import numpy as np\n",
    "x =             []\n",
    "y   =           []\n",
    "first_row =     []\n",
    "second_row =    []\n",
    "third_row =     []\n",
    "sum_y =         []\n",
    "sum_x_y =       []\n",
    "sum_x_square_y= []\n",
    "x_square =      []\n",
    "x_square_y =    []\n",
    "\n",
    "n = int(input(\"enter total number of elements elements : \"))\n",
    "for i in range(0,n):\n",
    "    Elements_of_x = int(input(\"enter elements of x: \"))\n",
    "    Elements_of_y = float(input(\"enter elements of y: \"))\n",
    "    x.append(Elements_of_x)\n",
    "    y.append(Elements_of_y)\n",
    "def power(lst,power):\n",
    "    return [i**power for i in lst]\n",
    "\n",
    "first_row.append(n)\n",
    "first_row.append(np.sum(power(x,1)))\n",
    "first_row.append(np.sum(power(x,2)))\n",
    "\n",
    "second_row.append(np.sum(power(x,1)))\n",
    "second_row.append(np.sum(power(x,2)))\n",
    "second_row.append(np.sum(power(x,3)))\n",
    "                  \n",
    "third_row.append(np.sum(power(x,2)))\n",
    "third_row.append(np.sum(power(x,3)))\n",
    "third_row.append(np.sum(power(x,4)))\n",
    "\n",
    "sum_y.append(np.sum(power(y,1)))\n",
    "sum_x_y.append((np.sum(np.multiply(x,y))))\n",
    "x_square.append(power(x,2))\n",
    "x_square_y.append(np.multiply(x_square,y))\n",
    "sum_x_square_y.append(np.sum(x_square_y))\n",
    "                  \n",
    "A = np.array([first_row , second_row , third_row])\n",
    "A = np.linalg.inv(A)\n",
    "print(A)\n",
    "B = np.array([sum_y , sum_x_y , sum_x_square_y])\n",
    "print(B)\n",
    "C = np.matmul(A,B)\n",
    "print(C)"
   ]
  },
  {
   "cell_type": "code",
   "execution_count": 9,
   "metadata": {},
   "outputs": [
    {
     "name": "stdout",
     "output_type": "stream",
     "text": [
      "the value of a is [2.47857143] the value of b is [2.35928571] the value of c is  [1.86071429]\n"
     ]
    }
   ],
   "source": [
    "print(\"the value of a is\", C[0] ,\n",
    "      \"the value of b is\", C[1] , \n",
    "      \"the value of c is \",C[2] , \n",
    "     )"
   ]
  },
  {
   "cell_type": "code",
   "execution_count": 1,
   "metadata": {},
   "outputs": [
    {
     "data": {
      "text/plain": [
       "[2, 2, 2]"
      ]
     },
     "execution_count": 1,
     "metadata": {},
     "output_type": "execute_result"
    }
   ],
   "source": [
    "x = [2]\n",
    "n = 3\n",
    "n*x"
   ]
  },
  {
   "cell_type": "code",
   "execution_count": null,
   "metadata": {},
   "outputs": [],
   "source": []
  }
 ],
 "metadata": {
  "kernelspec": {
   "display_name": "Python 3",
   "language": "python",
   "name": "python3"
  },
  "language_info": {
   "codemirror_mode": {
    "name": "ipython",
    "version": 3
   },
   "file_extension": ".py",
   "mimetype": "text/x-python",
   "name": "python",
   "nbconvert_exporter": "python",
   "pygments_lexer": "ipython3",
   "version": "3.7.3"
  }
 },
 "nbformat": 4,
 "nbformat_minor": 2
}
